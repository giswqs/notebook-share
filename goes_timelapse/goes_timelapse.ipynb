{
 "cells": [
  {
   "cell_type": "markdown",
   "id": "f6e0b731-a21e-44b9-9926-7c232cc119e3",
   "metadata": {},
   "source": [
    "[![Colab](https://colab.research.google.com/assets/colab-badge.svg)](https://colab.research.google.com/github/giswqs/notebook-share/blob/master/docs/goes_timelapse.ipynb)\n",
    "[![Binder](https://mybinder.org/badge_logo.svg)](https://mybinder.org/v2/gh/giswqs/notebook-share/HEAD?labpath=docs%2Fgoes_timelapse.ipynb)"
   ]
  },
  {
   "cell_type": "markdown",
   "id": "bc7aff6f-15cf-4d14-b892-60a577f2af38",
   "metadata": {},
   "source": [
    "**Create satellite timelapse with geemap and GOES imagery**"
   ]
  },
  {
   "cell_type": "code",
   "execution_count": null,
   "id": "fe448432-67e9-42ae-ad57-b695105cdc20",
   "metadata": {},
   "outputs": [],
   "source": [
    "# !pip install geemap"
   ]
  },
  {
   "cell_type": "code",
   "execution_count": 1,
   "id": "db989635-e212-40ae-a5fa-fc66eaad2d93",
   "metadata": {},
   "outputs": [],
   "source": [
    "import ee\n",
    "import geemap"
   ]
  },
  {
   "cell_type": "code",
   "execution_count": null,
   "id": "3b275118-fa32-4337-8a13-26bc85c4ee2b",
   "metadata": {},
   "outputs": [],
   "source": [
    "geemap.ee_initialize()"
   ]
  },
  {
   "cell_type": "code",
   "execution_count": null,
   "id": "382965a9-38fd-457a-baae-7152f4fb9330",
   "metadata": {},
   "outputs": [],
   "source": [
    "Map = geemap.Map()\n",
    "Map"
   ]
  },
  {
   "cell_type": "code",
   "execution_count": null,
   "id": "a808b169-faf2-431b-8a35-136249a41c43",
   "metadata": {},
   "outputs": [],
   "source": [
    "start_date = \"2022-12-24T16:00:00\"\n",
    "end_date = \"2022-12-25T00:00:00\"\n",
    "data = \"GOES-17\"\n",
    "scan = \"full_disk\""
   ]
  },
  {
   "cell_type": "code",
   "execution_count": null,
   "id": "f3e3801d-dbe8-40ce-aba5-135a0a7b3c74",
   "metadata": {},
   "outputs": [],
   "source": [
    "roi = ee.Geometry.BBox(-127.6144, 25.0060, -64.6848, 61.4076)"
   ]
  },
  {
   "cell_type": "code",
   "execution_count": null,
   "id": "8bd47274-a39c-453b-9c9d-5f4d999ddc5a",
   "metadata": {},
   "outputs": [],
   "source": [
    "roi = Map.user_roi"
   ]
  },
  {
   "cell_type": "code",
   "execution_count": null,
   "id": "858970ce-d5fd-4788-a7ac-4cb401049ba2",
   "metadata": {},
   "outputs": [],
   "source": [
    "Map.user_roi_coords()"
   ]
  },
  {
   "cell_type": "code",
   "execution_count": null,
   "id": "18895ef9-e190-410f-97ae-5563d6b2e519",
   "metadata": {},
   "outputs": [],
   "source": [
    "timelapse = geemap.goes_timelapse(\n",
    "    roi,\n",
    "    \"goes.gif\",\n",
    "    start_date,\n",
    "    end_date,\n",
    "    data,\n",
    "    scan,\n",
    "    framesPerSecond=5,\n",
    "    crs='EPSG:3857',\n",
    "    overlay_data='us_states',\n",
    ")\n",
    "geemap.show_image(timelapse)"
   ]
  },
  {
   "cell_type": "markdown",
   "id": "cd214743-644b-4da3-9782-449a4dd8cf93",
   "metadata": {},
   "source": [
    "![](https://i.imgur.com/jMcrycX.gif)"
   ]
  },
  {
   "cell_type": "code",
   "execution_count": null,
   "id": "9cd11a8f-7296-4434-929d-be1ee163e919",
   "metadata": {},
   "outputs": [],
   "source": [
    "start_date = \"2022-12-25T16:00:00\"\n",
    "end_date = \"2022-12-26T00:00:00\"\n",
    "roi = ee.Geometry.BBox(-168.7747, 14.4932, -64.1849, 67.4383)"
   ]
  },
  {
   "cell_type": "code",
   "execution_count": null,
   "id": "a22d5b9d-c4c1-4100-848f-0524f7d5f94b",
   "metadata": {},
   "outputs": [],
   "source": [
    "timelapse = geemap.goes_timelapse(\n",
    "    Map.user_roi,\n",
    "    \"goes2.gif\",\n",
    "    start_date,\n",
    "    end_date,\n",
    "    data,\n",
    "    scan,\n",
    "    framesPerSecond=5,\n",
    "    crs='EPSG:3857',\n",
    "    overlay_data='us_states',\n",
    ")\n",
    "geemap.show_image(timelapse)"
   ]
  },
  {
   "cell_type": "markdown",
   "id": "8b387804-20ca-4133-a4c2-259672001233",
   "metadata": {},
   "source": [
    "![](https://i.imgur.com/5uNae1f.gif)"
   ]
  }
 ],
 "metadata": {
  "kernelspec": {
   "display_name": "Python 3 (ipykernel)",
   "language": "python",
   "name": "python3"
  },
  "language_info": {
   "codemirror_mode": {
    "name": "ipython",
    "version": 3
   },
   "file_extension": ".py",
   "mimetype": "text/x-python",
   "name": "python",
   "nbconvert_exporter": "python",
   "pygments_lexer": "ipython3",
   "version": "3.10.8"
  },
  "vscode": {
   "interpreter": {
    "hash": "e7370f93d1d0cde622a1f8e1c04877d8463912d04d973331ad4851f04de6915a"
   }
  }
 },
 "nbformat": 4,
 "nbformat_minor": 5
}
