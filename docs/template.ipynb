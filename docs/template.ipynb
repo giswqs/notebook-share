{
 "cells": [
  {
   "cell_type": "markdown",
   "id": "45382bbe",
   "metadata": {},
   "source": [
    "[![image](https://jupyterlite.rtfd.io/en/latest/_static/badge.svg)](https://share.gishub.org/lab/index.html?path=template.ipynb)\n",
    "[![image](https://colab.research.google.com/assets/colab-badge.svg)](https://githubtocolab.com/giswqs/leafmap/blob/master/examples/notebooks/01_leafmap_intro.ipynb)\n",
    "[![image](https://mybinder.org/badge_logo.svg)](https://gishub.org/leafmap-binder)"
   ]
  },
  {
   "cell_type": "code",
   "execution_count": null,
   "id": "31f7cf26-effb-48c2-a15c-dfa43e34c765",
   "metadata": {},
   "outputs": [],
   "source": []
  }
 ],
 "metadata": {
  "kernelspec": {
   "display_name": "Python 3",
   "language": "python",
   "name": "python3"
  },
  "language_info": {
   "codemirror_mode": {
    "name": "ipython",
    "version": 3
   },
   "file_extension": ".py",
   "mimetype": "text/x-python",
   "name": "python",
   "nbconvert_exporter": "python",
   "pygments_lexer": "ipython3",
   "version": "3.10.8"
  }
 },
 "nbformat": 4,
 "nbformat_minor": 5
}
