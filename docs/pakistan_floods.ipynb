{
 "cells": [
  {
   "attachments": {},
   "cell_type": "markdown",
   "metadata": {},
   "source": [
    "[![Colab](https://colab.research.google.com/assets/colab-badge.svg)](https://colab.research.google.com/github/giswqs/notebook-share/blob/master/docs/pakistan_floods.ipynb)\n",
    "[![Binder](https://mybinder.org/badge_logo.svg)](https://mybinder.org/v2/gh/giswqs/notebook-share/HEAD?labpath=docs%pakistan_floods.ipynb)"
   ]
  },
  {
   "attachments": {},
   "cell_type": "markdown",
   "metadata": {},
   "source": [
    "# Visualization and Analysis of Pakistan Floods 2022 Using Earth Engine and Geemap\n",
    "\n"
   ]
  },
  {
   "attachments": {},
   "cell_type": "markdown",
   "metadata": {},
   "source": [
    "## Introduction\n",
    "\n",
    "From 14 June to October 2022, floods in Pakistan killed 1,739 people, and caused ₨ 3.2 trillion ($14.9 billion) of damage and ₨ 3.3 trillion ($15.2 billion) of economic losses. The flooding was the world's deadliest flood since the 2020 South Asian floods and described as the worst in the country's history. On 25 August, Pakistan declared a state of emergency because of the flooding.\n",
    "\n",
    "**Sources:**\n",
    "- Wikipedia: [2022 Pakistan floods](https://en.wikipedia.org/wiki/2022_Pakistan_floods)\n",
    "- UNICEF: [Devastating floods in Pakistan](https://www.unicef.org/emergencies/devastating-floods-pakistan-2022)\n"
   ]
  },
  {
   "attachments": {},
   "cell_type": "markdown",
   "metadata": {},
   "source": [
    "## Installation"
   ]
  },
  {
   "cell_type": "code",
   "execution_count": null,
   "metadata": {},
   "outputs": [],
   "source": [
    "# !pip install geemap"
   ]
  },
  {
   "attachments": {},
   "cell_type": "markdown",
   "metadata": {},
   "source": [
    "## Import libraries"
   ]
  },
  {
   "cell_type": "code",
   "execution_count": null,
   "metadata": {},
   "outputs": [],
   "source": [
    "import ee\n",
    "import geemap.foliumap as geemap"
   ]
  },
  {
   "attachments": {},
   "cell_type": "markdown",
   "metadata": {},
   "source": [
    "## Create an interactive map"
   ]
  },
  {
   "cell_type": "code",
   "execution_count": null,
   "metadata": {},
   "outputs": [],
   "source": [
    "Map = geemap.Map()\n",
    "\n",
    "country = ee.FeatureCollection('USDOS/LSIB_SIMPLE/2017') \\\n",
    "    .filter(ee.Filter.eq('country_na', 'Pakistan'))\n",
    "\n",
    "style = {'color': 'red', 'fillColor': '00000000'}\n",
    "Map.addLayer(country.style(**style), {}, 'Pakistan')\n",
    "Map.centerObject(country)\n",
    "\n",
    "Map"
   ]
  },
  {
   "attachments": {},
   "cell_type": "markdown",
   "metadata": {},
   "source": [
    "## Create Landsat composites"
   ]
  },
  {
   "cell_type": "code",
   "execution_count": null,
   "metadata": {},
   "outputs": [],
   "source": [
    "Map = geemap.Map()\n",
    "\n",
    "col_2021 = ee.ImageCollection('LANDSAT/LC08/C02/T1') \\\n",
    "    .filterDate('2021-06-01', '2021-10-31') \\\n",
    "    .filterBounds(country) \\\n",
    "\n",
    "landsat_2021 = ee.Algorithms.Landsat.simpleComposite(col_2021) \\\n",
    "    .clipToCollection(country)\n",
    "\n",
    "vis_params = {'bands': ['B6', 'B5', 'B4'], 'max': 128}\n",
    "Map.addLayer(landsat_2021, vis_params, 'Landsat 2021')\n"
   ]
  },
  {
   "cell_type": "code",
   "execution_count": null,
   "metadata": {},
   "outputs": [],
   "source": [
    "col_2022 = ee.ImageCollection('LANDSAT/LC08/C02/T1') \\\n",
    "    .filterDate('2022-06-01', '2022-10-31') \\\n",
    "    .filterBounds(country) \\\n",
    "\n",
    "landsat_2022 = ee.Algorithms.Landsat.simpleComposite(col_2022) \\\n",
    "    .clipToCollection(country)\n",
    "\n",
    "Map.addLayer(landsat_2022, vis_params, 'Landsat 2022')\n",
    "Map.centerObject(country)\n",
    "Map"
   ]
  },
  {
   "attachments": {},
   "cell_type": "markdown",
   "metadata": {},
   "source": [
    "## Compare Landsat composites side by side"
   ]
  },
  {
   "cell_type": "code",
   "execution_count": null,
   "metadata": {},
   "outputs": [],
   "source": [
    "Map = geemap.Map()\n",
    "Map.setCenter(68.4338, 26.4213, 7)\n",
    "\n",
    "left_layer = geemap.ee_tile_layer(landsat_2021, vis_params, 'Landsat 2021')\n",
    "right_layer = geemap.ee_tile_layer(landsat_2022, vis_params, 'Landsat 2022')\n",
    "\n",
    "Map.split_map(left_layer, right_layer, left_label='Landsat 2021', right_label='Landsat 2022')\n",
    "Map.addLayer(country.style(**style), {}, 'Pakistan')\n",
    "Map"
   ]
  },
  {
   "attachments": {},
   "cell_type": "markdown",
   "metadata": {},
   "source": [
    "## Compute Normalized Difference Water Index (NDWI)"
   ]
  },
  {
   "cell_type": "code",
   "execution_count": null,
   "metadata": {},
   "outputs": [],
   "source": [
    "ndwi_2021 = landsat_2021.normalizedDifference(['B3', 'B5']).rename('NDWI')\n",
    "ndwi_2022 = landsat_2022.normalizedDifference(['B3', 'B5']).rename('NDWI')"
   ]
  },
  {
   "cell_type": "code",
   "execution_count": null,
   "metadata": {},
   "outputs": [],
   "source": [
    "ndwi_vis = {'min': -1, 'max': 1, 'palette': 'ndwi'}"
   ]
  },
  {
   "cell_type": "code",
   "execution_count": null,
   "metadata": {},
   "outputs": [],
   "source": [
    "Map = geemap.Map()\n",
    "Map.setCenter(68.4338, 26.4213, 7)\n",
    "\n",
    "left_layer = geemap.ee_tile_layer(ndwi_2021, ndwi_vis, 'NDWI 2021')\n",
    "right_layer = geemap.ee_tile_layer(ndwi_2022, ndwi_vis, 'NDWI 2022')\n",
    "\n",
    "Map.split_map(left_layer, right_layer, left_label='NDWI 2021', right_label='NDWI 2022')\n",
    "Map.addLayer(country.style(**style), {}, 'Pakistan')\n",
    "Map\n"
   ]
  },
  {
   "attachments": {},
   "cell_type": "markdown",
   "metadata": {},
   "source": [
    "## Extract water extent"
   ]
  },
  {
   "cell_type": "code",
   "execution_count": null,
   "metadata": {},
   "outputs": [],
   "source": [
    "threshold = 0\n",
    "water_2021 = ndwi_2021.gt(threshold)\n",
    "water_2022 = ndwi_2022.gt(threshold)"
   ]
  },
  {
   "cell_type": "code",
   "execution_count": null,
   "metadata": {},
   "outputs": [],
   "source": [
    "Map = geemap.Map()\n",
    "Map.setCenter(68.4338, 26.4213, 7)\n",
    "\n",
    "Map.addLayer(landsat_2021, vis_params, 'Landsat 2021', False)\n",
    "Map.addLayer(landsat_2022, vis_params, 'Landsat 2022', False)\n",
    "\n",
    "left_layer = geemap.ee_tile_layer(water_2021.selfMask(), {'palette': 'blue'}, 'Water 2021')\n",
    "right_layer = geemap.ee_tile_layer(water_2022.selfMask(), {'palette': 'red'}, 'Water 2022')\n",
    "\n",
    "Map.split_map(left_layer, right_layer, left_label='Water 2021', right_label='Water 2022')\n",
    "Map.addLayer(country.style(**style), {}, 'Pakistan')\n",
    "Map\n"
   ]
  },
  {
   "attachments": {},
   "cell_type": "markdown",
   "metadata": {},
   "source": [
    "## Extract flood extent"
   ]
  },
  {
   "cell_type": "code",
   "execution_count": null,
   "metadata": {},
   "outputs": [],
   "source": [
    "flood_extent = water_2022.subtract(water_2021).gt(0).selfMask()"
   ]
  },
  {
   "cell_type": "code",
   "execution_count": null,
   "metadata": {},
   "outputs": [],
   "source": [
    "Map = geemap.Map()\n",
    "Map.setCenter(68.4338, 26.4213, 7)\n",
    "\n",
    "Map.addLayer(landsat_2021, vis_params, 'Landsat 2021', False)\n",
    "Map.addLayer(landsat_2022, vis_params, 'Landsat 2022', False)\n",
    "\n",
    "left_layer = geemap.ee_tile_layer(water_2021.selfMask(), {'palette': 'blue'}, 'Water 2021')\n",
    "right_layer = geemap.ee_tile_layer(water_2022.selfMask(), {'palette': 'red'}, 'Water 2022')\n",
    "\n",
    "Map.split_map(left_layer, right_layer, left_label='Water 2021', right_label='Water 2022')\n",
    "\n",
    "Map.addLayer(flood_extent, {'palette': 'cyan'}, 'Flood Extent')\n",
    "Map.addLayer(country.style(**style), {}, 'Pakistan')\n",
    "Map"
   ]
  },
  {
   "attachments": {},
   "cell_type": "markdown",
   "metadata": {},
   "source": [
    "## Calculate flood area"
   ]
  },
  {
   "cell_type": "code",
   "execution_count": null,
   "metadata": {},
   "outputs": [],
   "source": [
    "area_2021 = geemap.image_area_by_group(water_2021.selfMask(), scale=1000, denominator=1e6, decimal_places=4)\n",
    "area_2021"
   ]
  },
  {
   "cell_type": "code",
   "execution_count": null,
   "metadata": {},
   "outputs": [],
   "source": [
    "area_2022 = geemap.image_area_by_group(water_2022.selfMask(), scale=1000, denominator=1e6, decimal_places=4)\n",
    "area_2022"
   ]
  },
  {
   "cell_type": "code",
   "execution_count": null,
   "metadata": {},
   "outputs": [],
   "source": [
    "flood_area = geemap.image_area_by_group(flood_extent.selfMask(), scale=1000, denominator=1e6, decimal_places=4)\n",
    "flood_area"
   ]
  }
 ],
 "metadata": {
  "kernelspec": {
   "display_name": "geo",
   "language": "python",
   "name": "python3"
  },
  "language_info": {
   "codemirror_mode": {
    "name": "ipython",
    "version": 3
   },
   "file_extension": ".py",
   "mimetype": "text/x-python",
   "name": "python",
   "nbconvert_exporter": "python",
   "pygments_lexer": "ipython3",
   "version": "3.10.8"
  },
  "orig_nbformat": 4,
  "vscode": {
   "interpreter": {
    "hash": "31f05ea183a4718249d13ada7f166c6bdba1d00716247af5c11c23af8d5923f1"
   }
  }
 },
 "nbformat": 4,
 "nbformat_minor": 2
}
