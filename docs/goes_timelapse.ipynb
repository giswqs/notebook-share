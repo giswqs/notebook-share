{
 "cells": [
  {
   "cell_type": "markdown",
   "id": "f6e0b731-a21e-44b9-9926-7c232cc119e3",
   "metadata": {},
   "source": [
    "[![Colab](https://colab.research.google.com/assets/colab-badge.svg)](https://colab.research.google.com/github/giswqs/notebook-share/blob/master/docs/goes.ipynb)\n",
    "[![Binder](https://mybinder.org/badge_logo.svg)](https://mybinder.org/v2/gh/giswqs/notebook-share/HEAD?labpath=docs%2Fgoes.ipynb)"
   ]
  },
  {
   "cell_type": "markdown",
   "id": "bc7aff6f-15cf-4d14-b892-60a577f2af38",
   "metadata": {},
   "source": [
    "**Create satellite timelapse with geemap and GOES imagery**"
   ]
  },
  {
   "cell_type": "code",
   "execution_count": null,
   "id": "fe448432-67e9-42ae-ad57-b695105cdc20",
   "metadata": {},
   "outputs": [],
   "source": [
    "# !pip install geemap"
   ]
  },
  {
   "cell_type": "code",
   "execution_count": null,
   "id": "db989635-e212-40ae-a5fa-fc66eaad2d93",
   "metadata": {},
   "outputs": [],
   "source": [
    "import ee\n",
    "import geemap"
   ]
  },
  {
   "cell_type": "code",
   "execution_count": null,
   "id": "3b275118-fa32-4337-8a13-26bc85c4ee2b",
   "metadata": {},
   "outputs": [],
   "source": [
    "geemap.ee_initialize()"
   ]
  },
  {
   "cell_type": "code",
   "execution_count": null,
   "id": "a808b169-faf2-431b-8a35-136249a41c43",
   "metadata": {},
   "outputs": [],
   "source": [
    "start_date = \"2022-12-23T16:00:00\"\n",
    "end_date = \"2022-12-24T00:00:00\"\n",
    "data = \"GOES-17\"\n",
    "scan = \"full_disk\""
   ]
  },
  {
   "cell_type": "code",
   "execution_count": null,
   "id": "f3e3801d-dbe8-40ce-aba5-135a0a7b3c74",
   "metadata": {},
   "outputs": [],
   "source": [
    "roi = ee.Geometry.BBox(-127.6144, 25.0060, -64.6848, 61.4076)"
   ]
  },
  {
   "cell_type": "code",
   "execution_count": null,
   "id": "18895ef9-e190-410f-97ae-5563d6b2e519",
   "metadata": {},
   "outputs": [],
   "source": [
    "timelapse = geemap.goes_timelapse(\n",
    "    roi, \n",
    "    \"goes.gif\", \n",
    "    start_date, \n",
    "    end_date, \n",
    "    data, \n",
    "    scan, \n",
    "    framesPerSecond=5,\n",
    "    crs='EPSG:3857',\n",
    "    overlay_data='us_states'\n",
    ")\n",
    "geemap.show_image(timelapse)"
   ]
  },
  {
   "cell_type": "markdown",
   "id": "cd214743-644b-4da3-9782-449a4dd8cf93",
   "metadata": {},
   "source": [
    "![](https://i.imgur.com/jMcrycX.gif)"
   ]
  }
 ],
 "metadata": {
  "kernelspec": {
   "display_name": "Python 3",
   "language": "python",
   "name": "python3"
  },
  "language_info": {
   "codemirror_mode": {
    "name": "ipython",
    "version": 3
   },
   "file_extension": ".py",
   "mimetype": "text/x-python",
   "name": "python",
   "nbconvert_exporter": "python",
   "pygments_lexer": "ipython3",
   "version": "3.10.8"
  }
 },
 "nbformat": 4,
 "nbformat_minor": 5
}
